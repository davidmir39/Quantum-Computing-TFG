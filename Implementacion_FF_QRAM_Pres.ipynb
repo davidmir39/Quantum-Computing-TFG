{
 "cells": [
  {
   "cell_type": "markdown",
   "metadata": {},
   "source": [
    "<h1><font color=\"orange\" size=6.5>Implementación algoritmo FF-QRAM para QML</font></h1> "
   ]
  },
  {
   "cell_type": "markdown",
   "metadata": {},
   "source": [
    "<h1><font color=\"orange\" size=5> Instalación y actualización de módulos </font></h1> \n",
    "<h1><font color=\"white\" size=3.6 style=0.3> <p style=\"line-height: 1.2;\">\n",
    "Vamos a comenzar instalando los módulos necesarios para la ejecución del código, se añadirán celdas adicionales al final de este cuaderno para desinstalar los módulos si así se quiere. </p> </font></h1> \n"
   ]
  },
  {
   "cell_type": "code",
   "execution_count": null,
   "metadata": {},
   "outputs": [],
   "source": [
    "!pip install qiskit"
   ]
  },
  {
   "cell_type": "code",
   "execution_count": null,
   "metadata": {},
   "outputs": [],
   "source": [
    "!pip install qiskit_aer "
   ]
  },
  {
   "cell_type": "code",
   "execution_count": null,
   "metadata": {},
   "outputs": [],
   "source": [
    "!pip install sklearn.preprocessing "
   ]
  },
  {
   "cell_type": "code",
   "execution_count": null,
   "metadata": {},
   "outputs": [],
   "source": [
    "!pip install numpy"
   ]
  },
  {
   "cell_type": "code",
   "execution_count": null,
   "metadata": {},
   "outputs": [],
   "source": [
    "!pip install matplotlib"
   ]
  },
  {
   "cell_type": "markdown",
   "metadata": {},
   "source": [
    "<h1><font color=\"orange\" size=5> Importaciones y datos empleados </font></h1> \n",
    "<h1><font color=\"white\" size=3.6 style=0.3> <p style=\"line-height: 1.2;\">\n",
    "Se ha empleado una base de datos muy simple para poder representar de forma gráfica los procesos y manipulaciones que sus datos van sufriendo para poder <br> realizar un seguimiento del código visualmente accesible. También se ha probado con la base de datos Iris, pero la función para desplegar el circuito cuántico colapsa al haber tantos datos. </p> </font></h1> \n"
   ]
  },
  {
   "cell_type": "code",
   "execution_count": 2,
   "metadata": {},
   "outputs": [],
   "source": [
    "from qiskit import QuantumCircuit, QuantumRegister, ClassicalRegister, transpile\n",
    "from qiskit_aer import Aer\n",
    "from qiskit.visualization import plot_histogram, plot_state_qsphere\n",
    "from sklearn.preprocessing import MinMaxScaler\n",
    "import numpy as np\n",
    "import matplotlib.pyplot as plt\n",
    "import math\n",
    "\n",
    "\"\"\"\"\n",
    "data = [\n",
    "    [3.6574, 7.2431, 5.1223, 2.4924],\n",
    "    [6.8273, 1.9453, 9.1743, 4.8321],\n",
    "    [5.0324, 3.7123, 8.5214, 6.1232],\n",
    "    [4.9212, 9.2345, 3.4213, 7.3421],\n",
    "    [8.2314, 2.3912, 5.8921, 4.7345]\n",
    "]\n",
    "\n",
    "\n",
    "data = [\n",
    "    [3.6574, 7.2431],\n",
    "    [6.8273, 1.9453]\n",
    "]\n",
    "\n",
    "data = [\n",
    "    [0.34, \"10001\"],\n",
    "    [2.3, \"10101\"],\n",
    "    [1.2, \"11111\"],\n",
    "    [0.001, \"00000\"],\n",
    "    [0.2, \"100111\"],\n",
    "    [1.99, \"10000\"]\n",
    "    data = [\n",
    "    [1.99, \"11\"],\n",
    "    [0.34, \"10\"],\n",
    "    [2.3, \"01\"],\n",
    "    [1.2, \"00\"],\n",
    "]\n",
    "\n",
    "]\n",
    "\n",
    "data = [\n",
    "    [0.34, \"11\"],\n",
    "    [2.3, \"10\"],\n",
    "    [1.2, \"01\"],\n",
    "    [1.99, \"00\"]\n",
    "]\n",
    "\"\"\"\n",
    "data = [\n",
    "    [1.2, \"00\"],\n",
    "    [2.3, \"01\"],\n",
    "    [0.34, \"10\"],\n",
    "    [1.99, \"11\"]\n",
    "\n",
    "    ]\n"
   ]
  },
  {
   "cell_type": "markdown",
   "metadata": {},
   "source": [
    "<h1><font color=\"orange\" size=5> Paso 1: Normalización </font></h1> \n",
    "\n",
    "En este paso se pasará nuestra base de datos por un “MinMaxScaler”, que normalizará los datos, escalando los datos individualmente dentro del rango **-1 y 1** para su posterior tratamiento. \n"
   ]
  },
  {
   "cell_type": "code",
   "execution_count": 3,
   "metadata": {},
   "outputs": [],
   "source": [
    "# PRIMER PASO: normalizamos los datos clasicos para un mejor tratamiento, haciendo que esten comprendidos entre -1 y 1\n",
    "def normalizing_step(data):\n",
    "    #sacamos el primer elemento de cada vector\n",
    "\n",
    "    data_array = np.array(data, dtype=object)\n",
    "    primer_elemento = data_array[:, 0].astype(float).reshape(-1, 1)\n",
    "\n",
    "    myScaler = MinMaxScaler(feature_range=(-1, 1))\n",
    "    normalized_primer_elemento = myScaler.fit_transform(primer_elemento)\n",
    "\n",
    "    data_array[:, 0] = normalized_primer_elemento.flatten()\n",
    "\n",
    "    return data_array\n"
   ]
  },
  {
   "cell_type": "markdown",
   "metadata": {},
   "source": [
    "<h1><font color=\"orange\" size=5> Paso Opcional: Proyección estereográfica inversa </font></h1> \n",
    "\n",
    "En este paso se pasan los datos por un proceso llamado **\"Proyección Estereográfica Inversa\"**. Este paso pretende proyectar los datos que se le pasen en la esfera de Bloch para hacerlos adecuados y óptimos para operaciones cuánticas. Teniendo un vector $ \\mathbf{{\\overrightarrow{d}}^{(l)}} = {{d}}^{(l)}_1, {{d}}^{(l)}_2, \\ldots, {{d}}^{(l)}_N  \\in \\mathbb{R}^n $, entonces:\n",
    "$$\n",
    "\\text{ISP}(\\mathbf{{\\overrightarrow{d}}^{(l)}}) = \\left( \\frac{2{{d}}^{(l)}_1}{\\|\\mathbf{{\\overrightarrow{d}}^{(l)}}\\|^2 + 1}, \\frac{2{{d}}^{(l)}_2}{\\|\\mathbf{{\\overrightarrow{d}}^{(l)}}\\|^2 + 1}, \\ldots, \\frac{2{{d}}^{(l)}_N}{\\|\\mathbf{{\\overrightarrow{d}}^{(l)}}\\|^2 + 1}, \\frac{\\|\\mathbf{{\\overrightarrow{d}}^{(l)}}\\|^2 - 1}{\\|\\mathbf{{\\overrightarrow{d}}^{(l)}}\\|^2 + 1} \\right)\n",
    " \\in \\mathbb{S}^N \\subset \\mathbb{R}^{N+1}\n",
    "$$\n",
    "Se trata de un tipo de normalización que puede resultar especialmente útil para algoritmos de clustering ya que, enfocaríamos los datos como conjuntos de datos distribuidos en un espacio o dimensión y al proyectarlos a una dimensión o espacio de un orden mayor (*N* a *N+1*), nos ayudaría a conservar ángulos y similitudes entre los datos de la colección original, de una mejor manera que con otras técnicas como la distancia Euclidiana, por ejemplo."
   ]
  },
  {
   "cell_type": "code",
   "execution_count": 4,
   "metadata": {},
   "outputs": [],
   "source": [
    "\n",
    "#PASO OPCIONAL\n",
    "\n",
    "def inverse_stereo_transform(data):\n",
    "    k = len(data[0]) #nº elementos en cada array\n",
    "    l = len(data) #nº de arrays\n",
    "    adapted_data = []\n",
    "    for i in range(l): #iteramos sobre la lista de arrays\n",
    "        s = sum(data[i]**2) #suma los cuadrados de los componentes del array en s\n",
    "        for j in range(k):\n",
    "            data[i][j] = 2*data[i][j] #duplica los elementos \n",
    "        adapted_data.append([x for x in data[i]]) #crea una copia de data[i] y se añade en adapted_data\n",
    "        adapted_data[i] = np.append(data[i], np.array(s-1)) #añadimos el valor calculado en s -1\n",
    "        adapted_data[i] = adapted_data[i]/(s+1) # y lo normalizamos\n",
    "        print(\"adapted_data[\"+str(i)+\"] = \"+ str(adapted_data[i]))\n",
    "\n",
    "\n",
    "    return adapted_data\n"
   ]
  },
  {
   "cell_type": "markdown",
   "metadata": {},
   "source": [
    "<h1><font color=\"orange\" size=5> Paso 2: Circuito cuántico </font></h1> \n",
    "\n",
    "\n",
    "El objetivo de este paso es **convertir nuestra base de datos clásica en una cuántica** la cual se expresará de la siguiente forma:\n",
    "\n",
    "\n",
    "<p style=\"margin-bottom: -13px;\"></p>\n",
    "\n",
    "$$\n",
    "|\\psi {\\rangle }_{{\\rm{QDB}}}=\\sum _{l=0}^{M-1}\\,{\\alpha}_{l}|{\\overrightarrow{d}}^{(l)}\\rangle\n",
    "$$\n",
    "<p style=\"margin-bottom: -1px;\"></p>\n",
    "\n",
    "Donde: \n",
    "- $ {\\overrightarrow{d}}^{\\left(l\\right)} = d_0^{\\left(l\\right)} d_1^{\\left(l\\right)} \\ldots d_{n-1}^{\\left(l\\right)} \\in \\{0, 1\\}^n $, es una **cadena de qubits** en su estado base computacional dispuesta para representar un dato clásico.\n",
    "- M, es la cantidad de **datos clásicos**.\n",
    "- ${\\alpha}_{l}$, representa la **amplitud de probabilidad** del estado $|{\\overrightarrow{d}}^{(l)}\\rangle$. \n",
    "- l, representa el índice (posición) de dicha la entrada de datos ${\\overrightarrow{d}}^{(l)}$ en el conjunto de datos.\n",
    "\n",
    "Para K vectores y L datos en cada vector, concluimos que **necesitamos k + l qubits para codificar la base de datos**, siendo $ \\mathbf{ k=\\lceil {\\mathrm{log}}_{2}(K)\\rceil}$ y $\\mathbf{l=\\lceil {\\mathrm{log}}_{2}(L)\\rceil}$.\n",
    "\n",
    "Posteriormente, definimos nuestros registros cuánticos siendo estos todos los qubits obtenidos con el cálculo anterior más uno que necesitaremos, **el qubit registro**, al cual se le aplicará **la rotación multicontrolada** por los qubits del bus (si los qubits controladores están en el estado base computacional 1). Definimos nuestros **registros clásicos** donde volcaremos los resultados de las mediciones de los qubits y, finalmente, nuestro **circuito cuántico** con los elementos previamente definidos. En este caso concreto no se realizarán mediciones, ya que carece sentido colapsar los qubits hacia un estado cuando tienen que estar preparados para ser utilizados en un algoritmo de Quantum Machine Learning que se aplique posteriormente.\n",
    "\n",
    "Seguidamente, sometemos nuestro circuito cuántico y datos al **algoritmo FF-QRAM** en su respectiva función (explicada en su sección).\n",
    "\n",
    "\n"
   ]
  },
  {
   "cell_type": "code",
   "execution_count": 5,
   "metadata": {},
   "outputs": [],
   "source": [
    "\n",
    "def initializing_circuit(data):\n",
    "    K = len(data) #nº de arrays postnormalizacion\n",
    "    print(\"\\n\")\n",
    "    print(\"Numero de datos: \" + str(K))\n",
    "\n",
    "    \"\"\"\n",
    "    L = len(data[0]) #nº de elementos de datos en cada array postnormalizacion\n",
    "    print(\"\\n\")\n",
    "    print(\"Tamaño de L (elementos en cada vector): \" + str(L))\n",
    "\n",
    "    print(\"\\n\")\n",
    "    \"\"\"\n",
    "\n",
    "    #para codificar una base de datos de K vectores y L elementos en cada vector se necesitara encontrar\n",
    "    #el numero minimo de qubits tal que 2^k >= K, por ello hacemos k >= log2(K) y redondeamos hacia arriba\n",
    "    #para encontrar este numero minimo, y lo mismo con L\n",
    "\n",
    "    # En este caso concreto, como ya sabemos los qubits que vamos a necesitar al tener ya la direccion de memoria\n",
    "    # determinamos el número máximo de bits necesarios para las direcciones de memoria\n",
    "\n",
    "    max_address_length = max(len(str(item[1])) for item in data)\n",
    "\n",
    "    \"\"\"  \n",
    "    k = math.ceil(math.log2(K))\n",
    "    print(\"Numero de qubits necesario para codificar k datos: \" + str(k))\n",
    "  \n",
    "    l = math.ceil(math.log2(L))\n",
    "    print(\"l: numero de qubits necesario para indexar L elementos en cada array: \" + str(l))\n",
    "    \"\"\"\n",
    "\n",
    "    r = QuantumRegister(1, 'R') #qubit registro al que aplicamos la rotacion controlada\n",
    "    i = QuantumRegister(max_address_length, 'K') #registros para indexar los K arrays\n",
    "    c = ClassicalRegister(max_address_length, 'c') #registros clásicos \n",
    "\n",
    "    Q = QuantumCircuit(i,r,c) #circuito cuantico para ver nuestros datos pasados por FF-QRAM\n",
    "\n",
    "    FFQRAM(Q, data, i, r)\n",
    "\n",
    "\n",
    "\n",
    "    #display(Q.draw(output='mpl', reverse_bits=False))\n",
    "\n",
    "    return Q\n",
    "\n"
   ]
  },
  {
   "cell_type": "markdown",
   "metadata": {},
   "source": [
    "<h1><font color=\"orange\" size=5> Paso 3: FF-QRAM </font></h1> \n",
    "\n",
    "\n",
    "**El algoritmo FF-QRAM es lo que usamos para generar la base de datos cuántica**. Representado matemáticamente de la siguiente forma:\n",
    "\n",
    "\n",
    "<p style=\"margin-bottom: -13px;\"></p>\n",
    "\n",
    "$$\n",
    "QRAM\\left(D\\right)\\sum_{v}{\\alpha_v\\left|v\\right\\rangle_B\\left|0\\right\\rangle_R\\equiv\\sum_{l}{\\alpha_l\\left|{\\overrightarrow{d}}^{\\left(l\\right)}\\right\\rangle_B\\left|b_l\\right\\rangle_R}}\n",
    "$$\n",
    "<p style=\"margin-bottom: -1px;\"></p>\n",
    "\n",
    "Donde: \n",
    "- $\\left|v\\right\\rangle_B$, representa los **estados base computacionales del bus de qubits**.\n",
    "- $ \\alpha_v $, define la **amplitud de probabilidad** con que los estados base computacionales del bus $\\left|v\\right\\rangle_B$ son accedidos. Cada v es un índice que recorre todos los estados posibles del bus de qubits.\n",
    "- $\\left|0\\right\\rangle_R$ representa el **estado del qubit registro** inicialmente como $\\left|0\\right\\rangle$. \tEl qubit registro es un qubit auxiliar que se utiliza en una fase posterior del algoritmo, la fase registro. En esta fase, una puerta multicontrolada por los qubits del bus rotará el qubit registro $\\chi$ radianes sobre un determinado eje de la esfera de Bloch. Esta puerta solo se activará si los qubits de control se encuentran en el estado $|1\\rangle$.\n",
    "- $ {\\overrightarrow{d}}^{\\left(l\\right)} $, es la representación binaria de la entrada de datos que señala el índice l. $|{\\overrightarrow{d}}^{\\left(l\\right)}\\rangle_B$ denota una cadena de qubits en su estado base computacional que representa ${\\overrightarrow{d}}^{\\left(l\\right)}$ en el conjunto de datos D. $ \\alpha_l $ denotaría las amplitudes de probabilidad asociada a los estados base computacionales de $ {\\overrightarrow{d}}^{\\left(l\\right)} $, igual que en $\\left|v\\right\\rangle_B$\n",
    "- $|{b}_{l}\\rangle_R$,  representa un **estado arbitrario del qubit del registro**, tras haberle aplicado la rotación multicontrolada o no. \n",
    "- l, representa el índice (posición) de dicha la entrada de datos ${\\overrightarrow{d}}^{(l)}$ en el conjunto de datos.\n",
    "\n",
    "Es importante empezar el circuito cuántico aplicando puertas Hadamard a los registros cuánticos del bus para partir de una superposición uniforme. Si no partimos de una superposición uniforme, no se ejecutaría la **fase registro**.\n",
    "\n",
    "El algoritmo consta de tres fases: **fase flip, fase registro y fase flop**:\n",
    "\n",
    "- Definimos el estado inicial del circuito **superponiendo dos cadenas de bits** independientes ${\\overrightarrow{d}}^{\\left(l\\right)}$ y ${\\overrightarrow{d}}^{\\left(l+1\\right)}$, teniendo:\n",
    "$$\\left|\\Psi_0\\right\\rangle_l=\\alpha_{{\\overrightarrow{d}}^{\\left(l\\right)}}\\left|{\\overrightarrow{d}}^{\\left(l\\right)}\\right\\rangle\\left|0\\right\\rangle_R+\\sum_{v\\ \\neq{\\overrightarrow{d}}^{\\left(l\\right)}\\ }\\alpha_v\\left|v\\right\\rangle\\left|0\\right\\rangle_R$$ \n",
    "$\\left|\\Psi_0\\right\\rangle_l$  representa el estado de los (n+1) qubits cuando se escribe la correspondiente entrada de datos l\n",
    "\n",
    "- En la **fase flip**, se **aplican puertas X controladas** por los elementos de ${\\overrightarrow{d}}^{\\left(l\\right)}$, a los qubits del bus, haciendo que realicen \"flips\" (cambiando su estado) en caso de que el **bit de control sea \"0\"**, reorganizando el circuito de la siguiente forma:\n",
    "$$\n",
    "\\left|\\Psi_1\\right\\rangle_l = \\alpha_{{\\overrightarrow{d}}^{(l)}}\\left|1\\right\\rangle^{\\otimes n}\\left|0\\right\\rangle_R + \\sum_{\\overline{\\left|v \\oplus {\\overrightarrow{d}}^{(l)} \\right\\rangle} \\neq \\left|1\\right\\rangle^{\\otimes n}} \\alpha_v \\overline{\\left|v \\oplus {\\overrightarrow{d}}^{(l)} \\right\\rangle}\\left|0\\right\\rangle_R\n",
    "$$\n",
    "La barra superior se usa para denotar que el flip sucede si el bit de control es 0.\n",
    "\n",
    "- En la **fase registro**, se aplica la rotación multicontrolada por los qubits del bus ( cuya puerta está representada como $\\chi^{\\left(l\\right)}$) al qubit registro.\n",
    "$$\n",
    "\\left|\\Psi_2\\right\\rangle_l = \\alpha_{{\\overrightarrow{d}}^{(l)}}\\left|1\\right\\rangle^{\\otimes n}\\left|\\chi^{(l)}\\right\\rangle_R + \\sum_{\\overline{\\left|v \\oplus {\\overrightarrow{d}}^{(l)} \\right\\rangle} \\neq \\left|1\\right\\rangle^{\\otimes n}} \\alpha_v \\overline{\\left|v \\oplus {\\overrightarrow{d}}^{(l)} \\right\\rangle}\\left|0\\right\\rangle_R\n",
    "$$\n",
    "$$\n",
    "|\\chi\\rangle = \\cos \\chi \\, |0\\rangle + \\sin \\chi \\, |1\\rangle\n",
    "$$\n",
    "\n",
    "- En la **fase flop**, volvemos a hacer uso de las puertas X controladas por los elementos de ${\\overrightarrow{d}}^{\\left(l\\right)}$, para revertir (flop) el estado del bus:\n",
    "$$\n",
    "\\left|\\Psi_3\\right\\rangle_l = \\alpha_{{\\overrightarrow{d}}^{(l)}}\\left|{\\overrightarrow{d}}^{(l)}\\right\\rangle\\left|\\chi^{(l)}\\right\\rangle_R + \\sum_{v \\neq {\\overrightarrow{d}}^{(l)}} \\alpha_v |v\\rangle \\left|0\\right\\rangle_R\n",
    "$$\n",
    "\n",
    "- Repetimos el proceso entero con la siguiente entrada de datos y el siguiente $\\chi^{\\left(l+1\\right)}$:\n",
    "\n",
    "$$\n",
    "\\left|\\Psi_4\\right\\rangle_l = \\alpha_{{\\vec{d}}^{(l)}}\\left|{\\vec{d}}^{(l)}\\right\\rangle\\left|\\chi^{(l)}\\right\\rangle_R + \\alpha_{{\\vec{d}}^{(l+1)}}\\left|{\\vec{d}}^{(l+1)}\\right\\rangle\\left|\\chi^{(l+1)}\\right\\rangle_R + \\sum_{v \\neq {\\vec{d}}^{(l)}, \\ {\\vec{d}}^{(l+1)}} \\alpha_v |v\\rangle \\left|0\\right\\rangle_R\n",
    "$$\n",
    "\n",
    "*Esquema teórico del circuito sometido al algoritmo FF-QRAM:*\n",
    "\n",
    "<img src=\"https://raw.githubusercontent.com/davidmir39/images/main/ImageNotebook2.png\" width=\"700\" alt=\"Qiskit elements\">\n",
    "\n"
   ]
  },
  {
   "cell_type": "code",
   "execution_count": 6,
   "metadata": {},
   "outputs": [],
   "source": [
    "\n",
    "def FFQRAM(circuit, data, k_qregisters, qubitRY):\n",
    "    #list_crtl_qubits = [l_qregisters, k_qregisters]\n",
    "    list_crtl_qubits = k_qregisters[:]  \n",
    "    circuit.h(k_qregisters)\n",
    "    for idx, iteratingData in enumerate(data):\n",
    "        print(\"\\n\")\n",
    "        print(\"Dato que se esta codificando: \" + str(iteratingData[0]))\n",
    "        #flip stage\n",
    "        encoded_data1 = iteratingData[1]\n",
    "        print(\"\\n\")\n",
    "        print(\"Representacion binaria de la direccion de memoria del dato: \" + str(encoded_data1))\n",
    "        for pos, bit in enumerate(encoded_data1):\n",
    "            if not int(bit): #si el bit es 0\n",
    "                circuit.x(k_qregisters[pos]) #le aplicamos una puerta X al registro cuantico cuya posicion\n",
    "                                              #corresponda con la del bit en la cadena\n",
    "        \n",
    "        #display(circuit.draw(output='mpl', reverse_bits=False))\n",
    "         \n",
    "\n",
    "\n",
    "        circuit.barrier()        \n",
    "\n",
    "        #aplicamos la rotacion multicontrolada al qubit registro\n",
    "        #empezamos calculando \"theta\" que es el numero de grados que vamos a rotar el eje determinado en la esfera de Bloch\n",
    "        #print(\"valor contenido en la posicion del elemento del vector:\" + str(array[iteratingL]))\n",
    "        print(\"dato que se almacena: \" + str(iteratingData[0]))\n",
    "        print(\"\\n\")\n",
    "        theta = np.arcsin(iteratingData[0])*2 \n",
    "        print(\"theta: \" + str(theta))\n",
    "        circuit.mcry(theta, list_crtl_qubits, qubitRY)\n",
    " \n",
    "\n",
    "\n",
    "        circuit.barrier()\n",
    "\n",
    "        #flop stage \n",
    "        for pos, bit in enumerate(encoded_data1):\n",
    "            if not int(bit): #si el bit es 0\n",
    "                circuit.x(k_qregisters[pos]) #le aplicamos una puerta X al registro cuantico cuya posicion\n",
    "                                              #corresponda con la del bit en la cadena\n",
    "\n",
    "        circuit.barrier()\n",
    "        #display(circuit.draw(output='mpl', reverse_bits=False))\n",
    "\n"
   ]
  },
  {
   "cell_type": "markdown",
   "metadata": {},
   "source": [
    "<h1><font color=\"orange\" size=5> Ejecución </font></h1> \n",
    "\n",
    "En el siguiente bloque de código, los datos serán procesados por las diferentes funciones de este cuaderno, explicadas previamente. También se ejecutará el circuito, para ello, primero se obtiene el backend donde se ejecutará, se transpila, se ejecuta en el simulador designado con el backend para visualizar el vector de estado resultante y se muestran tanto los resultados como el propio circuito."
   ]
  },
  {
   "cell_type": "code",
   "execution_count": 7,
   "metadata": {},
   "outputs": [
    {
     "name": "stdout",
     "output_type": "stream",
     "text": [
      "Datos:\n",
      "[[1.2, '00'], [2.3, '01'], [0.34, '10'], [1.99, '11']]\n",
      "Datos normalizados: [[-0.12244897959183665 '00']\n",
      " [1.0 '01']\n",
      " [-1.0 '10']\n",
      " [0.6836734693877555 '11']]\n",
      "\n",
      "\n",
      "Datos para el ejemplo (ya normalizados):\n",
      "[[-0.12244897959183665 '00']\n",
      " [1.0 '01']\n",
      " [-1.0 '10']\n",
      " [0.6836734693877555 '11']]\n",
      "\n",
      "\n",
      "\n",
      "\n",
      "Numero de datos: 4\n",
      "\n",
      "\n",
      "Dato que se esta codificando: -0.12244897959183665\n",
      "\n",
      "\n",
      "Representacion binaria de la direccion de memoria del dato: 00\n",
      "dato que se almacena: -0.12244897959183665\n",
      "\n",
      "\n",
      "theta: -0.24551411553002564\n",
      "\n",
      "\n",
      "Dato que se esta codificando: 1.0\n",
      "\n",
      "\n",
      "Representacion binaria de la direccion de memoria del dato: 01\n",
      "dato que se almacena: 1.0\n",
      "\n",
      "\n",
      "theta: 3.141592653589793\n",
      "\n",
      "\n",
      "Dato que se esta codificando: -1.0\n",
      "\n",
      "\n",
      "Representacion binaria de la direccion de memoria del dato: 10\n",
      "dato que se almacena: -1.0\n",
      "\n",
      "\n",
      "theta: -3.141592653589793\n",
      "\n",
      "\n",
      "Dato que se esta codificando: 0.6836734693877555\n",
      "\n",
      "\n",
      "Representacion binaria de la direccion de memoria del dato: 11\n",
      "dato que se almacena: 0.6836734693877555\n",
      "\n",
      "\n",
      "theta: 1.505568909186854\n"
     ]
    },
    {
     "data": {
      "image/png": "[encoded data removed]",
      "text/plain": [
       "<Figure size 2210.95x785.944 with 1 Axes>"
      ]
     },
     "metadata": {},
     "output_type": "display_data"
    },
    {
     "name": "stdout",
     "output_type": "stream",
     "text": [
      "\n",
      "\n",
      "Vector de estado:\n",
      " Statevector([ 4.96237405e-01+0.j,  9.59806799e-18+0.j,  3.12101390e-17+0.j,\n",
      "              3.64894021e-01+0.j, -6.12244898e-02+0.j, -5.00000000e-01+0.j,\n",
      "              5.00000000e-01+0.j,  3.41836735e-01+0.j],\n",
      "            dims=(2, 2, 2))\n"
     ]
    },
    {
     "data": {
      "image/png": "[encoded data removed]",
      "text/plain": [
       "<Figure size 2000x1000 with 1 Axes>"
      ]
     },
     "metadata": {},
     "output_type": "display_data"
    }
   ],
   "source": [
    "\n",
    "\n",
    "print(\"Datos:\")\n",
    "print(data)\n",
    "data = normalizing_step(data)\n",
    "max_address_length = max(len(str(item[1])) for item in data)\n",
    "print(\"Datos normalizados: \" + str(data))\n",
    "#para el ejemplo, solo usaremos el ultimo dato y el primero\n",
    "#data = [data[0], data[-1], data[3], data[2]]\n",
    "print(\"\\n\")\n",
    "print(\"Datos para el ejemplo (ya normalizados):\")\n",
    "print(data)\n",
    "print(\"\\n\")\n",
    "#data= inverse_stereo_transform(data)\n",
    "q_circuit = initializing_circuit(data)\n",
    "\n",
    "\n",
    "#Ejecución del circuito\n",
    "#backend = Aer.get_backend('qasm_simulator')\n",
    "backend = Aer.get_backend('statevector_simulator')\n",
    "transpiled_circ = transpile(q_circuit, backend)\n",
    "result = backend.run(transpiled_circ, shots=1024).result()\n",
    "\n",
    "#Mostramos el circuito\n",
    "display(q_circuit.draw(output='mpl', reverse_bits=False))\n",
    "\n",
    "\n",
    "#Obtenemos los resultados\n",
    "\n",
    "statevector = result.get_statevector()\n",
    "statevector_array = np.asarray(statevector)\n",
    "\n",
    "print(\"\\n\")\n",
    "print(\"Vector de estado:\\n\", statevector)\n",
    "# Calcular las probabilidades\n",
    "probabilities = np.abs(statevector)**2\n",
    "\n",
    "# Obtener los estados (bits)\n",
    "states = [bin(i)[2:].zfill(max_address_length + 1) for i in range(len(statevector_array))]\n",
    "\n",
    "#Gráfico de barras\n",
    "fig, ax = plt.subplots(figsize=(20, 10))\n",
    "bar_width = 0.4  \n",
    "positions = np.arange(len(states)) \n",
    "ax.bar(positions, probabilities, width=bar_width, color='blue')\n",
    "ax.set_xticks(positions)\n",
    "ax.set_xticklabels(states, rotation=90)  \n",
    "plt.xlabel('Estados')\n",
    "plt.ylabel('Probabilidad')\n",
    "plt.title('Probabilidades de los Estados Cuánticos')\n",
    "plt.show()\n",
    "\n",
    "\n"
   ]
  },
  {
   "cell_type": "markdown",
   "metadata": {},
   "source": [
    "<h1><font color=\"orange\" size=5> Desinstalación de módulos </font></h1> \n",
    "<h1><font color=\"white\" size=3.6 style=0.3> <p style=\"line-height: 1.2;\">\n",
    "Sección para desinstalar los módulos a elección del usuario. </p> </font></h1> \n"
   ]
  },
  {
   "cell_type": "code",
   "execution_count": null,
   "metadata": {},
   "outputs": [],
   "source": [
    "!python -m pip uninstall qiskit --yes"
   ]
  },
  {
   "cell_type": "code",
   "execution_count": null,
   "metadata": {},
   "outputs": [],
   "source": [
    "!python -m pip uninstall qiskit_aer --yes"
   ]
  },
  {
   "cell_type": "code",
   "execution_count": null,
   "metadata": {},
   "outputs": [],
   "source": [
    "!python -m pip uninstall sklearn.preprocessing --yes"
   ]
  },
  {
   "cell_type": "code",
   "execution_count": null,
   "metadata": {},
   "outputs": [],
   "source": [
    "!python -m pip uninstall numpy --yes"
   ]
  },
  {
   "cell_type": "code",
   "execution_count": null,
   "metadata": {},
   "outputs": [],
   "source": [
    "!python -m pip uninstall matplotlib --yes"
   ]
  }
 ],
 "metadata": {
  "kernelspec": {
   "display_name": "Python 3",
   "language": "python",
   "name": "python3"
  },
  "language_info": {
   "codemirror_mode": {
    "name": "ipython",
    "version": 3
   },
   "file_extension": ".py",
   "mimetype": "text/x-python",
   "name": "python",
   "nbconvert_exporter": "python",
   "pygments_lexer": "ipython3",
   "version": "3.12.4"
  }
 },
 "nbformat": 4,
 "nbformat_minor": 2
}
